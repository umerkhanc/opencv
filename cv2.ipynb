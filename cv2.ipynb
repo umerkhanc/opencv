{
 "cells": [
  {
   "cell_type": "code",
   "execution_count": 1,
   "id": "a0ce8d44",
   "metadata": {},
   "outputs": [
    {
     "ename": "SyntaxError",
     "evalue": "unexpected EOF while parsing (3571800511.py, line 62)",
     "output_type": "error",
     "traceback": [
      "\u001b[1;36m  Input \u001b[1;32mIn [1]\u001b[1;36m\u001b[0m\n\u001b[1;33m    faces = face_cascade.detectMultiScale(gray_\u001b[0m\n\u001b[1;37m                                               ^\u001b[0m\n\u001b[1;31mSyntaxError\u001b[0m\u001b[1;31m:\u001b[0m unexpected EOF while parsing\n"
     ]
    }
   ],
   "source": [
    "# Import OpenCV library\n",
    "import cv2\n",
    "\n",
    "# Read an image\n",
    "img = cv2.imread(\"image.jpg\")\n",
    "\n",
    "# Display an image\n",
    "cv2.imshow(\"Image\", img)\n",
    "cv2.waitKey(0)\n",
    "cv2.destroyAllWindows()\n",
    "\n",
    "# Convert an image to grayscale\n",
    "gray_img = cv2.cvtColor(img, cv2.COLOR_BGR2GRAY)\n",
    "cv2.imshow(\"Gray Image\", gray_img)\n",
    "cv2.waitKey(0)\n",
    "cv2.destroyAllWindows()\n",
    "\n",
    "# Resize an image\n",
    "resized_img = cv2.resize(img, (500, 500))\n",
    "cv2.imshow(\"Resized Image\", resized_img)\n",
    "cv2.waitKey(0)\n",
    "cv2.destroyAllWindows()\n",
    "\n",
    "# Rotate an image\n",
    "(height, width) = img.shape[:2]\n",
    "center = (width / 2, height / 2)\n",
    "angle = 45\n",
    "scale = 1.0\n",
    "rotation_matrix = cv2.getRotationMatrix2D(center, angle, scale)\n",
    "rotated_img = cv2.warpAffine(img, rotation_matrix, (width, height))\n",
    "cv2.imshow(\"Rotated Image\", rotated_img)\n",
    "cv2.waitKey(0)\n",
    "cv2.destroyAllWindows()\n",
    "\n",
    "# Crop an image\n",
    "cropped_img = img[100:200, 100:200]\n",
    "cv2.imshow(\"Cropped Image\", cropped_img)\n",
    "cv2.waitKey(0)\n",
    "cv2.destroyAllWindows()\n",
    "\n",
    "# Blur an image\n",
    "kernel_size = (5, 5)\n",
    "blurred_img = cv2.GaussianBlur(img, kernel_size, 0)\n",
    "cv2.imshow(\"Blurred Image\", blurred_img)\n",
    "cv2.waitKey(0)\n",
    "cv2.destroyAllWindows()\n",
    "\n",
    "# Draw shapes on an image\n",
    "img = cv2.imread(\"image.jpg\")\n",
    "cv2.rectangle(img, (50, 50), (150, 150), (0, 255, 0), 2)\n",
    "cv2.circle(img, (100, 100), 50, (0, 0, 255), -1)\n",
    "cv2.line(img, (200, 200), (300, 300), (255, 0, 0), 5)\n",
    "cv2.putText(img, \"OpenCV\", (350, 50), cv2.FONT_HERSHEY_SIMPLEX, 1.0, (0, 0, 0), 2)\n",
    "cv2.imshow(\"Shapes Image\", img)\n",
    "cv2.waitKey(0)\n",
    "cv2.destroyAllWindows()\n",
    "\n",
    "# Face detection using Haar cascades\n",
    "face_cascade = cv2.CascadeClassifier(\"haarcascade_frontalface_default.xml\")\n",
    "img = cv2.imread(\"image.jpg\")\n",
    "gray_img = cv2.cvtColor(img, cv2.COLOR_BGR2GRAY)\n",
    "faces = face_cascade.detectMultiScale(gray_\n"
   ]
  },
  {
   "cell_type": "code",
   "execution_count": null,
   "id": "22ecf5f8",
   "metadata": {},
   "outputs": [],
   "source": []
  }
 ],
 "metadata": {
  "kernelspec": {
   "display_name": "Python 3 (ipykernel)",
   "language": "python",
   "name": "python3"
  },
  "language_info": {
   "codemirror_mode": {
    "name": "ipython",
    "version": 3
   },
   "file_extension": ".py",
   "mimetype": "text/x-python",
   "name": "python",
   "nbconvert_exporter": "python",
   "pygments_lexer": "ipython3",
   "version": "3.8.10"
  }
 },
 "nbformat": 4,
 "nbformat_minor": 5
}
